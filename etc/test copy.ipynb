{
 "cells": [
  {
   "cell_type": "code",
   "execution_count": 15,
   "metadata": {},
   "outputs": [],
   "source": [
    "import pandas as pd\n",
    "import numpy as np"
   ]
  },
  {
   "cell_type": "code",
   "execution_count": 22,
   "metadata": {},
   "outputs": [],
   "source": [
    "df_t_info_h_wind = pd.read_csv('C:/Users/gboni/OneDrive/デスクトップ/t_info_h_wind.csv')"
   ]
  },
  {
   "cell_type": "code",
   "execution_count": 23,
   "metadata": {},
   "outputs": [
    {
     "data": {
      "text/html": [
       "<div>\n",
       "<style scoped>\n",
       "    .dataframe tbody tr th:only-of-type {\n",
       "        vertical-align: middle;\n",
       "    }\n",
       "\n",
       "    .dataframe tbody tr th {\n",
       "        vertical-align: top;\n",
       "    }\n",
       "\n",
       "    .dataframe thead th {\n",
       "        text-align: right;\n",
       "    }\n",
       "</style>\n",
       "<table border=\"1\" class=\"dataframe\">\n",
       "  <thead>\n",
       "    <tr style=\"text-align: right;\">\n",
       "      <th></th>\n",
       "      <th>yyyymmdd</th>\n",
       "      <th>pool_code</th>\n",
       "      <th>race_no</th>\n",
       "      <th>wind</th>\n",
       "    </tr>\n",
       "  </thead>\n",
       "  <tbody>\n",
       "    <tr>\n",
       "      <th>0</th>\n",
       "      <td>20211001</td>\n",
       "      <td>1</td>\n",
       "      <td>1</td>\n",
       "      <td>0</td>\n",
       "    </tr>\n",
       "    <tr>\n",
       "      <th>1</th>\n",
       "      <td>20211001</td>\n",
       "      <td>1</td>\n",
       "      <td>2</td>\n",
       "      <td>4</td>\n",
       "    </tr>\n",
       "    <tr>\n",
       "      <th>2</th>\n",
       "      <td>20211001</td>\n",
       "      <td>1</td>\n",
       "      <td>3</td>\n",
       "      <td>6</td>\n",
       "    </tr>\n",
       "    <tr>\n",
       "      <th>3</th>\n",
       "      <td>20211001</td>\n",
       "      <td>1</td>\n",
       "      <td>4</td>\n",
       "      <td>0</td>\n",
       "    </tr>\n",
       "    <tr>\n",
       "      <th>4</th>\n",
       "      <td>20211001</td>\n",
       "      <td>1</td>\n",
       "      <td>5</td>\n",
       "      <td>0</td>\n",
       "    </tr>\n",
       "  </tbody>\n",
       "</table>\n",
       "</div>"
      ],
      "text/plain": [
       "   yyyymmdd  pool_code  race_no wind\n",
       "0  20211001          1        1    0\n",
       "1  20211001          1        2    4\n",
       "2  20211001          1        3    6\n",
       "3  20211001          1        4    0\n",
       "4  20211001          1        5    0"
      ]
     },
     "execution_count": 23,
     "metadata": {},
     "output_type": "execute_result"
    }
   ],
   "source": [
    "df_t_info_h_wind.head()"
   ]
  },
  {
   "cell_type": "code",
   "execution_count": 25,
   "metadata": {},
   "outputs": [
    {
     "name": "stdout",
     "output_type": "stream",
     "text": [
      "0\n"
     ]
    }
   ],
   "source": [
    "# 'date', 'pool', 'race' の組み合わせで重複をチェックします。\n",
    "duplicates = df_t_info_h_wind.duplicated(subset=['yyyymmdd', 'pool_code', 'race_no'], keep=False)\n",
    "\n",
    "# 重複の数を数えます。\n",
    "num_duplicates = duplicates.sum()\n",
    "\n",
    "print(num_duplicates)"
   ]
  },
  {
   "cell_type": "code",
   "execution_count": 26,
   "metadata": {},
   "outputs": [],
   "source": [
    "df_t_info_h = pd.read_csv('C:/Users/gboni/OneDrive/デスクトップ/t_info_h.csv')"
   ]
  },
  {
   "cell_type": "code",
   "execution_count": 27,
   "metadata": {},
   "outputs": [
    {
     "data": {
      "text/html": [
       "<div>\n",
       "<style scoped>\n",
       "    .dataframe tbody tr th:only-of-type {\n",
       "        vertical-align: middle;\n",
       "    }\n",
       "\n",
       "    .dataframe tbody tr th {\n",
       "        vertical-align: top;\n",
       "    }\n",
       "\n",
       "    .dataframe thead th {\n",
       "        text-align: right;\n",
       "    }\n",
       "</style>\n",
       "<table border=\"1\" class=\"dataframe\">\n",
       "  <thead>\n",
       "    <tr style=\"text-align: right;\">\n",
       "      <th></th>\n",
       "      <th>yyyymmdd</th>\n",
       "      <th>pool_code</th>\n",
       "      <th>race_no</th>\n",
       "      <th>temperature</th>\n",
       "      <th>weather</th>\n",
       "      <th>wind_speed</th>\n",
       "      <th>water_temperature</th>\n",
       "      <th>wave_height</th>\n",
       "      <th>wind</th>\n",
       "    </tr>\n",
       "  </thead>\n",
       "  <tbody>\n",
       "    <tr>\n",
       "      <th>0</th>\n",
       "      <td>20231022</td>\n",
       "      <td>1</td>\n",
       "      <td>1</td>\n",
       "      <td>13.0℃</td>\n",
       "      <td>晴</td>\n",
       "      <td>2.0</td>\n",
       "      <td>16.0</td>\n",
       "      <td>1.0</td>\n",
       "      <td>1</td>\n",
       "    </tr>\n",
       "    <tr>\n",
       "      <th>1</th>\n",
       "      <td>20231022</td>\n",
       "      <td>1</td>\n",
       "      <td>2</td>\n",
       "      <td>18.0℃</td>\n",
       "      <td>晴</td>\n",
       "      <td>3.0</td>\n",
       "      <td>17.0</td>\n",
       "      <td>2.0</td>\n",
       "      <td>2</td>\n",
       "    </tr>\n",
       "    <tr>\n",
       "      <th>2</th>\n",
       "      <td>20231022</td>\n",
       "      <td>1</td>\n",
       "      <td>3</td>\n",
       "      <td>17.0℃</td>\n",
       "      <td>晴</td>\n",
       "      <td>3.0</td>\n",
       "      <td>17.0</td>\n",
       "      <td>2.0</td>\n",
       "      <td>3</td>\n",
       "    </tr>\n",
       "    <tr>\n",
       "      <th>3</th>\n",
       "      <td>20231022</td>\n",
       "      <td>1</td>\n",
       "      <td>4</td>\n",
       "      <td>17.0℃</td>\n",
       "      <td>晴</td>\n",
       "      <td>2.0</td>\n",
       "      <td>17.0</td>\n",
       "      <td>1.0</td>\n",
       "      <td>向左</td>\n",
       "    </tr>\n",
       "    <tr>\n",
       "      <th>4</th>\n",
       "      <td>20231022</td>\n",
       "      <td>1</td>\n",
       "      <td>5</td>\n",
       "      <td>17.0℃</td>\n",
       "      <td>晴</td>\n",
       "      <td>1.0</td>\n",
       "      <td>17.0</td>\n",
       "      <td>1.0</td>\n",
       "      <td>向左</td>\n",
       "    </tr>\n",
       "  </tbody>\n",
       "</table>\n",
       "</div>"
      ],
      "text/plain": [
       "   yyyymmdd  pool_code  race_no temperature weather wind_speed  \\\n",
       "0  20231022          1        1       13.0℃       晴        2.0   \n",
       "1  20231022          1        2       18.0℃       晴        3.0   \n",
       "2  20231022          1        3       17.0℃       晴        3.0   \n",
       "3  20231022          1        4       17.0℃       晴        2.0   \n",
       "4  20231022          1        5       17.0℃       晴        1.0   \n",
       "\n",
       "  water_temperature wave_height wind  \n",
       "0              16.0         1.0    1  \n",
       "1              17.0         2.0    2  \n",
       "2              17.0         2.0    3  \n",
       "3              17.0         1.0   向左  \n",
       "4              17.0         1.0   向左  "
      ]
     },
     "execution_count": 27,
     "metadata": {},
     "output_type": "execute_result"
    }
   ],
   "source": [
    "df_t_info_h.head()"
   ]
  },
  {
   "cell_type": "code",
   "execution_count": 28,
   "metadata": {},
   "outputs": [
    {
     "name": "stdout",
     "output_type": "stream",
     "text": [
      "0\n"
     ]
    }
   ],
   "source": [
    "# 'date', 'pool', 'race' の組み合わせで重複をチェックします。\n",
    "duplicates = df_t_info_h.duplicated(subset=['yyyymmdd', 'pool_code', 'race_no'], keep=False)\n",
    "\n",
    "# 重複の数を数えます。\n",
    "num_duplicates = duplicates.sum()\n",
    "\n",
    "print(num_duplicates)"
   ]
  },
  {
   "cell_type": "code",
   "execution_count": 30,
   "metadata": {},
   "outputs": [],
   "source": [
    "\n",
    "\n",
    "# ユニークな組み合わせのセットを作成\n",
    "unique_combinations_t_info_h_set = set(df_t_info_h[['yyyymmdd', 'pool_code', 'race_no']].itertuples(index=False, name=None))\n",
    "unique_combinations_t_info_h_wind_set = set(df_t_info_h_wind[['yyyymmdd', 'pool_code', 'race_no']].itertuples(index=False, name=None))\n",
    "\n",
    "# 不足している組み合わせを見つける\n",
    "missing_in_t_info_h = unique_combinations_t_info_h_wind_set - unique_combinations_t_info_h_set\n",
    "\n",
    "# 不足している組み合わせをデータフレームに変換\n",
    "missing_in_t_info_h_df = pd.DataFrame(list(missing_in_t_info_h), columns=['yyyymmdd', 'pool_code', 'race_no'])"
   ]
  },
  {
   "cell_type": "code",
   "execution_count": 32,
   "metadata": {},
   "outputs": [],
   "source": [
    "missing_in_t_info_h_df.to_csv('C:/Users/gboni/OneDrive/デスクトップ/過不足.csv')"
   ]
  },
  {
   "cell_type": "code",
   "execution_count": null,
   "metadata": {},
   "outputs": [],
   "source": []
  }
 ],
 "metadata": {
  "kernelspec": {
   "display_name": "base",
   "language": "python",
   "name": "python3"
  },
  "language_info": {
   "codemirror_mode": {
    "name": "ipython",
    "version": 3
   },
   "file_extension": ".py",
   "mimetype": "text/x-python",
   "name": "python",
   "nbconvert_exporter": "python",
   "pygments_lexer": "ipython3",
   "version": "3.9.7"
  }
 },
 "nbformat": 4,
 "nbformat_minor": 2
}
